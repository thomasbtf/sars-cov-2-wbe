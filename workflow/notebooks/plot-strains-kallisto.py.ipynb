{
 "cells": [
  {
   "cell_type": "code",
   "execution_count": 2,
   "metadata": {},
   "outputs": [],
   "source": [
    "import pandas as pd\n",
    "import altair as alt\n",
    "\n",
    "min_fraction = snakemake.params.get(\"min_fraction\", 0.01)\n",
    "\n",
    "calls = pd.read_csv(snakemake.input[0], sep=\"\\t\")\n",
    "\n",
    "bars = (\n",
    "    alt.Chart(calls)\n",
    "    .mark_bar()\n",
    "    .encode(\n",
    "        y=alt.Y(\"target_id:N\", title=\"Lineage\"),\n",
    "        x=alt.X(\n",
    "            \"fraction:Q\",\n",
    "            axis=alt.Axis(format=\"%\"),\n",
    "            title=\"Fraction of reads within the sample\",\n",
    "        ),\n",
    "        # color=alt.Color('target_id', scale=alt.Scale(scheme=\"tableau10\"), legend=None),\n",
    "    )\n",
    ")\n",
    "\n",
    "text = bars.mark_text(\n",
    "    color=\"black\",\n",
    "    align=\"left\",\n",
    "    baseline=\"middle\",\n",
    "    dx=3,  # Nudges text to right so it doesn't appear on top of the bar\n",
    ").encode(\n",
    "    text=alt.Text(\"est_counts:Q\", format=\",.0f\"),\n",
    ")\n",
    "\n",
    "(bars + text).save(snakemake.output[0])"
   ]
  }
 ],
 "metadata": {
  "kernelspec": {
   "display_name": "Python 3",
   "language": "python",
   "name": "python3"
  },
  "language_info": {
   "codemirror_mode": {
    "name": "ipython",
    "version": 3
   },
   "file_extension": ".py",
   "mimetype": "text/x-python",
   "name": "python",
   "nbconvert_exporter": "python",
   "pygments_lexer": "ipython3",
   "version": "3.9.1"
  }
 },
 "nbformat": 4,
 "nbformat_minor": 4
}