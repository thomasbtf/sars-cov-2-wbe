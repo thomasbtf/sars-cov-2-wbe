{
 "cells": [
  {
   "cell_type": "code",
   "execution_count": 24,
   "metadata": {},
   "outputs": [],
   "source": [
    "from collections import defaultdict\n",
    "\n",
    "import pandas as pd\n",
    "import altair as alt\n",
    "\n",
    "mode = snakemake.wildcards.get(\"mode\", \"major\")\n",
    "\n",
    "strains = pd.DataFrame(columns=[\"target_id\", \"fraction\"])\n",
    "\n",
    "for f in snakemake.input:\n",
    "    calls = pd.read_csv(f, sep=\"\\t\")\n",
    "    if mode == \"major\":\n",
    "        major_strain = calls.iloc[calls[\"fraction\"].idxmax()]\n",
    "        strains = strains.append(major_strain[[\"target_id\", \"fraction\"]])\n",
    "    else:\n",
    "        strains = strains.append(calls[[\"target_id\", \"fraction\"]])\n",
    "\n",
    "strains[\"count\"] = 1\n",
    "\n",
    "alt.Chart(strains).mark_bar().encode(\n",
    "    x=alt.X(\"sum(count):Q\", axis=alt.Axis(tickMinStep=1)),\n",
    "    y=alt.Y(\"target_id:N\", title=\"\"),\n",
    "    color=alt.Color(\"fraction\", bin=True),\n",
    ").save(snakemake.output[0])"
   ]
  }
 ],
 "metadata": {
  "kernelspec": {
   "display_name": "Python 3",
   "language": "python",
   "name": "python3"
  },
  "language_info": {
   "codemirror_mode": {
    "name": "ipython",
    "version": 3
   },
   "file_extension": ".py",
   "mimetype": "text/x-python",
   "name": "python",
   "nbconvert_exporter": "python",
   "pygments_lexer": "ipython3",
   "version": "3.9.1"
  }
 },
 "nbformat": 4,
 "nbformat_minor": 4
}
